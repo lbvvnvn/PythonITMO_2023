{
  "nbformat": 4,
  "nbformat_minor": 0,
  "metadata": {
    "colab": {
      "provenance": [],
      "include_colab_link": true
    },
    "kernelspec": {
      "name": "python3",
      "display_name": "Python 3"
    },
    "language_info": {
      "name": "python"
    }
  },
  "cells": [
    {
      "cell_type": "markdown",
      "metadata": {
        "id": "view-in-github",
        "colab_type": "text"
      },
      "source": [
        "<a href=\"https://colab.research.google.com/github/lbvvnvn/PythonITMO_2023/blob/main/PythonUrban_final_task.ipynb\" target=\"_parent\"><img src=\"https://colab.research.google.com/assets/colab-badge.svg\" alt=\"Open In Colab\"/></a>"
      ]
    },
    {
      "cell_type": "markdown",
      "metadata": {
        "id": "vGDfbdLe5PUs"
      },
      "source": [
        "# Итоговый проект. Улицы. Объекты культурного наследия."
      ]
    },
    {
      "cell_type": "code",
      "source": [
        "# TODO собрать установку всех необходимых модулей в одном месте\n"
      ],
      "metadata": {
        "id": "YDz_w4ncmVMT"
      },
      "execution_count": null,
      "outputs": []
    },
    {
      "cell_type": "code",
      "source": [
        "# TODO собрать импорты всех модулей в одном месте\n"
      ],
      "metadata": {
        "id": "Cpn6YWHImmCz"
      },
      "execution_count": null,
      "outputs": []
    },
    {
      "cell_type": "code",
      "source": [
        "TILES = \"CartoDB positron\"  # Название подложки для карт\n",
        "\n",
        "# TODO указать любой район Санкт-Петербург из OSM https://wiki.openstreetmap.org/wiki/RU:%D0%A1%D0%B0%D0%BD%D0%BA%D1%82-%D0%9F%D0%B5%D1%82%D0%B5%D1%80%D0%B1%D1%83%D1%80%D0%B3/%D0%A0%D0%B0%D0%B9%D0%BE%D0%BD%D1%8B\n",
        "TERRITORY_NAME = ...  # название территории для которой будут строиться слои\n",
        "\n",
        "# TODO указать ссылку на файл из вашего github репозитория, которая начинается с https://raw.githubusercontent.com/\n",
        "KGIOP_FILE_URL = ...  # ссылка на слой с объектами культурного наследия\n",
        "STREETS_FILE_URL = ...  # ссылка на слой с улицами"
      ],
      "metadata": {
        "id": "4iT2LzegmfYz"
      },
      "execution_count": null,
      "outputs": []
    },
    {
      "cell_type": "markdown",
      "source": [
        "## Территория"
      ],
      "metadata": {
        "id": "cTIgCuVU5uIT"
      }
    },
    {
      "cell_type": "markdown",
      "source": [
        "### Загрузка территории из OSM (Extract)"
      ],
      "metadata": {
        "id": "RdQsk6TT9vgX"
      }
    },
    {
      "cell_type": "code",
      "source": [
        "# TODO загрузить geodataframe с геометрией для территории TERRITORY_NAME"
      ],
      "metadata": {
        "id": "N6qDafuQ9_Nv"
      },
      "execution_count": null,
      "outputs": []
    },
    {
      "cell_type": "markdown",
      "source": [
        "## Улицы"
      ],
      "metadata": {
        "id": "K3VY8W4d93Yt"
      }
    },
    {
      "cell_type": "markdown",
      "source": [
        "### Загрузка файла с улицами (Extract)"
      ],
      "metadata": {
        "id": "4mH1FBw4-GB5"
      }
    },
    {
      "cell_type": "code",
      "execution_count": null,
      "metadata": {
        "id": "SRXpUAvk5ONJ"
      },
      "outputs": [],
      "source": [
        "# TODO отфильтровать улицы по маске геометрии территории полученной ранее\n"
      ]
    },
    {
      "cell_type": "markdown",
      "source": [
        "### Обработка данных с улицами (Transform)"
      ],
      "metadata": {
        "id": "eC3YdkziAcaE"
      }
    },
    {
      "cell_type": "code",
      "source": [
        "# TODO сгруппировать и объединить геометрии с одинаковыми названиями\n"
      ],
      "metadata": {
        "id": "7LD0J-YE_uSh"
      },
      "execution_count": null,
      "outputs": []
    },
    {
      "cell_type": "markdown",
      "source": [
        "### Сохранение слоя с улицами (Load)"
      ],
      "metadata": {
        "id": "Y6kceXrXAJDn"
      }
    },
    {
      "cell_type": "code",
      "source": [
        "# TODO переименовать столбцы в русские названия, кроме столбца geometry\n",
        "\n",
        "# TODO для того чтобы переименовать индекс, нужно обратиться и нему и вызвать от него метод rename (https://pandas.pydata.org/pandas-docs/stable/reference/api/pandas.Index.rename.html)"
      ],
      "metadata": {
        "id": "g3lU0b7rEfv2"
      },
      "execution_count": null,
      "outputs": []
    },
    {
      "cell_type": "code",
      "source": [
        "# TODO сохранить слой в географической проекции в формате GeoJSON\n"
      ],
      "metadata": {
        "id": "OuIm2guxAQHS"
      },
      "execution_count": null,
      "outputs": []
    },
    {
      "cell_type": "markdown",
      "source": [
        "## Объекты культурного наследия"
      ],
      "metadata": {
        "id": "zqqWUNPzuJu0"
      }
    },
    {
      "cell_type": "markdown",
      "source": [
        "### Загрузка объектов культурного наследия (Extract)"
      ],
      "metadata": {
        "id": "473VG26vbdUX"
      }
    },
    {
      "cell_type": "code",
      "execution_count": null,
      "metadata": {
        "id": "u-NrRHTl5lmx"
      },
      "outputs": [],
      "source": [
        "# TODO отфильтровать улицы по маске геометрии территории полученной ранее\n"
      ]
    },
    {
      "cell_type": "markdown",
      "source": [
        "### Обработка объектов культурного наследия (Transform)"
      ],
      "metadata": {
        "id": "E_d2aqIHENQ0"
      }
    },
    {
      "cell_type": "code",
      "source": [
        "# TODO добавить два столбца lon и lat, в которых будут долгота и широта\n"
      ],
      "metadata": {
        "id": "ufqqSwaJEjpD"
      },
      "execution_count": null,
      "outputs": []
    },
    {
      "cell_type": "markdown",
      "source": [
        "### Сохранение слоя с объектами культурного наследия (Load)"
      ],
      "metadata": {
        "id": "Fwpp7cniENRC"
      }
    },
    {
      "cell_type": "code",
      "source": [
        "# TODO переименовать столбцы в русские названия, кроме столбца geometry\n"
      ],
      "metadata": {
        "id": "3IMdU0us_q0S"
      },
      "execution_count": null,
      "outputs": []
    },
    {
      "cell_type": "code",
      "source": [
        "# TODO сохранить слой в географической проекции в формате GeoJSON\n"
      ],
      "metadata": {
        "id": "9Dpv_9sEzGV-"
      },
      "execution_count": null,
      "outputs": []
    }
  ]
}